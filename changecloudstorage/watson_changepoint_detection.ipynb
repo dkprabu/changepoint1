{
 "cells": [
  {
   "cell_type": "markdown",
   "metadata": {
    "collapsed": true
   },
   "source": [
    "# Change Point Detection in Time Series Sensor data"
   ]
  },
  {
   "cell_type": "markdown",
   "metadata": {},
   "source": [
    "# 1 Environment Setup"
   ]
  },
  {
   "cell_type": "markdown",
   "metadata": {},
   "source": [
    "## 1.1 Install dependent libraries"
   ]
  },
  {
   "cell_type": "code",
   "execution_count": 1,
   "metadata": {},
   "outputs": [
    {
     "data": {
      "text/html": [
       "<table>\n",
       "<thead><tr><th></th><th scope=col>Package</th><th scope=col>Version</th></tr></thead>\n",
       "<tbody>\n",
       "\t<tr><th scope=row>bit64</th><td>bit64 </td><td>0.9-7 </td></tr>\n",
       "\t<tr><th scope=row>blob</th><td>blob  </td><td>1.1.0 </td></tr>\n",
       "\t<tr><th scope=row>chron</th><td>chron </td><td>2.3-50</td></tr>\n",
       "</tbody>\n",
       "</table>\n"
      ],
      "text/latex": [
       "\\begin{tabular}{r|ll}\n",
       "  & Package & Version\\\\\n",
       "\\hline\n",
       "\tbit64 & bit64  & 0.9-7 \\\\\n",
       "\tblob & blob   & 1.1.0 \\\\\n",
       "\tchron & chron  & 2.3-50\\\\\n",
       "\\end{tabular}\n"
      ],
      "text/plain": [
       "      Package Version\n",
       "bit64 bit64   0.9-7  \n",
       "blob  blob    1.1.0  \n",
       "chron chron   2.3-50 "
      ]
     },
     "metadata": {},
     "output_type": "display_data"
    }
   ],
   "source": [
    "# Clear all objects from memory\n",
    " rm(list=ls())\n",
    "\n",
    "# Check for installed libraries\n",
    " inspkgs = as.data.frame(installed.packages()[,c(1,3:4)])\n",
    " inspkgs = inspkgs[is.na(inspkgs$Priority),1:2,drop=FALSE]\n",
    " inspkgs[1:3,] # Displying only 3 sample packages\n",
    "\n",
    "\n",
    "# Run the below commands for libraries installation only \n",
    "#    if they are not istalled already as indicated by the above command\n",
    "#    Uncomment and run the installation commands below\n",
    "\n",
    "# install.packages(\"sqldf\")\n",
    "# install.packages(\"ggplot2\")\n",
    "# install.packages(\"jsonlite\", repos=\"http://cran.r-project.org\")\n"
   ]
  },
  {
   "cell_type": "markdown",
   "metadata": {},
   "source": [
    "## 1.2 Load dependent libraries"
   ]
  },
  {
   "cell_type": "code",
   "execution_count": 3,
   "metadata": {},
   "outputs": [],
   "source": [
    "library(sqldf)\n",
    "library(httr)\n",
    "library(RCurl)\n",
    "library(bitops)\n",
    "library(jsonlite)\n"
   ]
  },
  {
   "cell_type": "markdown",
   "metadata": {},
   "source": [
    "# 2 Configure Parameters for Change Point Detection"
   ]
  },
  {
   "cell_type": "markdown",
   "metadata": {},
   "source": [
    "## 2.1 Read DSX Configuration file and load all parameters"
   ]
  },
  {
   "cell_type": "markdown",
   "metadata": {},
   "source": [
    "Complete below 2 steps before executing the rest of the cells\n",
    "1. Configure the parameters in JSON file and upload to Object storage\n",
    "2. Set the Configuration .json file name in the next section\n"
   ]
  },
  {
   "cell_type": "markdown",
   "metadata": {},
   "source": [
    "### 2.1.1 Set the name of the .json configuration file"
   ]
  },
  {
   "cell_type": "code",
   "execution_count": 4,
   "metadata": {
    "collapsed": true
   },
   "outputs": [],
   "source": [
    "# Specify file names for sample text and configuration files\n",
    "# Not required when reading data from database\n",
    "v_sampleConfigFileName = \"cpd_dsx_config.json\"\n"
   ]
  },
  {
   "cell_type": "markdown",
   "metadata": {},
   "source": [
    "### 2.1.2 Insert the Object Storage file credentials to read the .json configuration file"
   ]
  },
  {
   "cell_type": "code",
   "execution_count": 5,
   "metadata": {
    "collapsed": true
   },
   "outputs": [],
   "source": [
    "# @hidden_cell\n",
    "# The section below needs to be modified:\n",
    "#    Insert your credentials to read data from your data sources and replace \n",
    "#    the idaConnect() section below\n",
    "# This function accesses a file in your Object Storage. The definition contains your credentials.\n",
    "getObjectStorageFileWithCredentials_273b1c76068e4fe4b6cb7633e12004f3 <- function(container, filename) \n",
    "{\n",
    "    # This functions returns a textConnection object for a file\n",
    "    # from Bluemix Object Storage.\n",
    "\n",
    "    if(!require(httr)) install.packages('httr')\n",
    "    if(!require(RCurl)) install.packages('RCurl')\n",
    "    library(httr, RCurl)\n",
    "    auth_url <- paste(\"https://identity.open.softlayer.com\",'/v3/auth/tokens', sep= '')\n",
    "    auth_args <- paste('{\"auth\": {\"identity\": {\"password\": {\"user\": \n",
    "            {\"domain\": {\"id\": ', \"1301cc61df814635b2dd7c9fa40e6e2a\",'},\n",
    "            \"password\": ', \"mHk4F6cpWl5R?*jZ\",',\n",
    "            \"name\": ', \"member_03c4778cda0f6111933c34cba4d34b7a50f6eabb\",'}},\n",
    "            \"methods\": [\"password\"]}}}', sep='\"')\n",
    "    auth_response <- httr::POST(url = auth_url, body = auth_args)\n",
    "    x_subject_token <-  headers(auth_response)[['x-subject-token']]\n",
    "    auth_body <-  content(auth_response)\n",
    "    access_url <-  unlist(lapply(auth_body[['token']][['catalog']], function(catalog){\n",
    "        if((catalog[['type']] == 'object-store')){\n",
    "            lapply(catalog[['endpoints']], function(endpoints){\n",
    "                if(endpoints[['interface']] == 'public' && endpoints[['region_id']] == 'dallas') {\n",
    "                    paste(endpoints[['url']], container, filename, sep='/')}\n",
    "            })\n",
    "        }\n",
    "    }))\n",
    "    data <- content(httr::GET(url = access_url, \n",
    "                              add_headers (\"Content-Type\" = \"application/json\", \n",
    "                                           \"X-Auth-Token\" = x_subject_token)), as=\"text\")\n",
    "    textConnection(data)\n",
    "}\n"
   ]
  },
  {
   "cell_type": "markdown",
   "metadata": {},
   "source": [
    "### 2.1.3 Read Configuration parametric values"
   ]
  },
  {
   "cell_type": "code",
   "execution_count": 6,
   "metadata": {
    "collapsed": true
   },
   "outputs": [],
   "source": [
    "# Function to Read json parametric values\n",
    "f_getconfigval <- function(injsonstr, invarname)\n",
    "{   # paramname, paramvalue\n",
    "    injsonstr$paramvalue[injsonstr$paramname==invarname]\n",
    "}\n"
   ]
  },
  {
   "cell_type": "code",
   "execution_count": 7,
   "metadata": {},
   "outputs": [
    {
     "data": {
      "text/html": [
       "<table>\n",
       "<thead><tr><th scope=col>paramname</th><th scope=col>paramvalue</th></tr></thead>\n",
       "<tbody>\n",
       "\t<tr><td>coltimestamp     </td><td>TIMESTAMP        </td></tr>\n",
       "\t<tr><td>colsensorid      </td><td>SENSORID         </td></tr>\n",
       "\t<tr><td>colsensorvalue   </td><td>SENSORVALUE      </td></tr>\n",
       "\t<tr><td>sensorid         </td><td>3B1              </td></tr>\n",
       "\t<tr><td>datatimeformat   </td><td>%d-%m-%Y %H:%M:%S</td></tr>\n",
       "\t<tr><td>intimezone       </td><td>GMT              </td></tr>\n",
       "</tbody>\n",
       "</table>\n"
      ],
      "text/latex": [
       "\\begin{tabular}{r|ll}\n",
       " paramname & paramvalue\\\\\n",
       "\\hline\n",
       "\t coltimestamp      & TIMESTAMP        \\\\\n",
       "\t colsensorid       & SENSORID         \\\\\n",
       "\t colsensorvalue    & SENSORVALUE      \\\\\n",
       "\t sensorid          & 3B1              \\\\\n",
       "\t datatimeformat                & \\%d-\\%m-\\%Y \\%H:\\%M:\\%S\\\\\n",
       "\t intimezone        & GMT              \\\\\n",
       "\\end{tabular}\n"
      ],
      "text/plain": [
       "  paramname      paramvalue       \n",
       "1 coltimestamp   TIMESTAMP        \n",
       "2 colsensorid    SENSORID         \n",
       "3 colsensorvalue SENSORVALUE      \n",
       "4 sensorid       3B1              \n",
       "5 datatimeformat %d-%m-%Y %H:%M:%S\n",
       "6 intimezone     GMT              "
      ]
     },
     "metadata": {},
     "output_type": "display_data"
    }
   ],
   "source": [
    "# Read json configuration file\n",
    "# Please read the documentation of 'jsonlite' to learn more about the possibilities \n",
    "# to adjust the data loading.\n",
    "# jsonlite documentation: https://cran.r-project.org/web/packages/jsonlite/jsonlite.pdf\n",
    "jsonstr <-  fromJSON(\n",
    "             readLines(\n",
    "              getObjectStorageFileWithCredentials_273b1c76068e4fe4b6cb7633e12004f3(\"ChangePointDetection\",\n",
    "                                                                                   v_sampleConfigFileName)))\n",
    "head(jsonstr)\n"
   ]
  },
  {
   "cell_type": "code",
   "execution_count": 8,
   "metadata": {
    "collapsed": true
   },
   "outputs": [],
   "source": [
    "# Read json configuration parametric values\n",
    "# \n",
    "# Name of the column which holds the Time stamp of data \n",
    "# recorded by Sensor\n",
    "v_coltimestamp <- f_getconfigval(jsonstr, \"coltimestamp\")\n",
    "# Name of the column which holds the Sensor identification\n",
    "v_colsensorid <- f_getconfigval(jsonstr, \"colsensorid\")\n",
    "# Name of the column that stores the values measured by sensor\n",
    "v_colsensorvalue <- f_getconfigval(jsonstr, \"colsensorvalue\")\n",
    "# Sensor ID for which the analysis needs to be applied\n",
    "v_sensorid <- f_getconfigval(jsonstr, \"sensorid\")\n",
    "# Time format of the data in the data frame\n",
    "v_datatimeformat <- f_getconfigval(jsonstr, \"datatimeformat\")\n",
    "# Time zone for the Time stamps\n",
    "v_intimezone <- f_getconfigval(jsonstr, \"intimezone\")\n",
    "# Time format which is used for specifying the\n",
    "# time ranges in the below paraneters\n",
    "v_rangetimeformat <- f_getconfigval(jsonstr, \"rangetimeformat\")\n",
    "# Start Time for first series Time range\n",
    "v_Pfrom <- f_getconfigval(jsonstr, \"Pfrom\")\n",
    "# End Time for first series Time range\n",
    "v_Pto <- f_getconfigval(jsonstr, \"Pto\")\n",
    "# Start Time for second series Time range\n",
    "v_Cfrom <- f_getconfigval(jsonstr, \"Cfrom\")\n",
    "# End Time for second series Time range\n",
    "v_Cto <- f_getconfigval(jsonstr, \"Cto\")\n",
    "# Set the threshold percentage of change if detected\n",
    "v_thresholdpercent <- as.numeric(f_getconfigval(jsonstr, \"thresholdpercent\"))\n"
   ]
  },
  {
   "cell_type": "code",
   "execution_count": 9,
   "metadata": {},
   "outputs": [
    {
     "name": "stdout",
     "output_type": "stream",
     "text": [
      " [1] \"TIMESTAMP\"         \"SENSORID\"          \"SENSORVALUE\"      \n",
      " [4] \"3B1\"               \"%d-%m-%Y %H:%M:%S\" \"GMT\"              \n",
      " [7] \"%Y%m%d %H:%M:%S\"   \"20160324 00:00:00\" \"20160325 00:00:00\"\n",
      "[10] \"20160325 00:00:00\" \"20160326 00:00:00\" \"25\"               \n"
     ]
    }
   ],
   "source": [
    "# Cross verify configuration parametric values\n",
    "print(c(v_coltimestamp, v_colsensorid, v_colsensorvalue, v_sensorid,\n",
    "        v_datatimeformat, v_intimezone, v_rangetimeformat, v_Pfrom,\n",
    "        v_Pto, v_Cfrom, v_Cto, v_thresholdpercent))\n"
   ]
  },
  {
   "cell_type": "markdown",
   "metadata": {},
   "source": [
    "# 3 Read IoT Sensor data from database"
   ]
  },
  {
   "cell_type": "code",
   "execution_count": 11,
   "metadata": {},
   "outputs": [
    {
     "data": {
      "text/html": [
       "<table>\n",
       "<thead><tr><th scope=col>SENSORID</th><th scope=col>TIMESTAMP</th><th scope=col>SENSORVALUE</th><th scope=col>SENSORUNITS</th></tr></thead>\n",
       "<tbody>\n",
       "\t<tr><td>3B1                </td><td>24-03-2016 00:00:00</td><td>9.22500            </td><td>FAHRENHEIT         </td></tr>\n",
       "\t<tr><td>3B1                </td><td>24-03-2016 00:10:00</td><td>8.61000            </td><td>FAHRENHEIT         </td></tr>\n",
       "\t<tr><td>3B1                </td><td>24-03-2016 00:50:00</td><td>8.61000            </td><td>FAHRENHEIT         </td></tr>\n",
       "\t<tr><td>3B1                </td><td>24-03-2016 01:00:00</td><td>8.61000            </td><td>FAHRENHEIT         </td></tr>\n",
       "\t<tr><td>3B1                </td><td>24-03-2016 01:10:00</td><td>8.61000            </td><td>FAHRENHEIT         </td></tr>\n",
       "\t<tr><td>3B1                </td><td>24-03-2016 01:20:00</td><td>8.61000            </td><td>FAHRENHEIT         </td></tr>\n",
       "</tbody>\n",
       "</table>\n"
      ],
      "text/latex": [
       "\\begin{tabular}{r|llll}\n",
       " SENSORID & TIMESTAMP & SENSORVALUE & SENSORUNITS\\\\\n",
       "\\hline\n",
       "\t 3B1                 & 24-03-2016 00:00:00 & 9.22500             & FAHRENHEIT         \\\\\n",
       "\t 3B1                 & 24-03-2016 00:10:00 & 8.61000             & FAHRENHEIT         \\\\\n",
       "\t 3B1                 & 24-03-2016 00:50:00 & 8.61000             & FAHRENHEIT         \\\\\n",
       "\t 3B1                 & 24-03-2016 01:00:00 & 8.61000             & FAHRENHEIT         \\\\\n",
       "\t 3B1                 & 24-03-2016 01:10:00 & 8.61000             & FAHRENHEIT         \\\\\n",
       "\t 3B1                 & 24-03-2016 01:20:00 & 8.61000             & FAHRENHEIT         \\\\\n",
       "\\end{tabular}\n"
      ],
      "text/plain": [
       "  SENSORID TIMESTAMP           SENSORVALUE SENSORUNITS\n",
       "1 3B1      24-03-2016 00:00:00 9.22500     FAHRENHEIT \n",
       "2 3B1      24-03-2016 00:10:00 8.61000     FAHRENHEIT \n",
       "3 3B1      24-03-2016 00:50:00 8.61000     FAHRENHEIT \n",
       "4 3B1      24-03-2016 01:00:00 8.61000     FAHRENHEIT \n",
       "5 3B1      24-03-2016 01:10:00 8.61000     FAHRENHEIT \n",
       "6 3B1      24-03-2016 01:20:00 8.61000     FAHRENHEIT "
      ]
     },
     "metadata": {},
     "output_type": "display_data"
    },
    {
     "data": {
      "text/html": [
       "432"
      ],
      "text/latex": [
       "432"
      ],
      "text/markdown": [
       "432"
      ],
      "text/plain": [
       "[1] 432"
      ]
     },
     "metadata": {},
     "output_type": "display_data"
    }
   ],
   "source": [
    "# Read data from DB2 Warehouse in BMX\n",
    "library(ibmdbR)\n",
    "library(RODBC)\n",
    "library(Matrix)\n",
    "\n",
    "# Call function to read data for specific sensor\n",
    "# @hidden_cell\n",
    "# The section below needs to be modified:\n",
    "#    Insert your credentials to read data from your data sources and replace \n",
    "#    the idaConnect() section below\n",
    "# This connection object is used to access your data and contains your credentials.\n",
    "\n",
    "con_cpd <- idaConnect(\"DASHDB;DATABASE=BLUDB;HOSTNAME=dashdb-entry-yp-dal09-09.services.dal.bluemix.net;PORT=50000;PROTOCOL=TCPIP;\",\n",
    "                      uid = \"dash10720\", pwd = \"32uf_R_giSXX\", conType = \"odbc\")\n",
    "idaInit(con_cpd)\n",
    "\n",
    "alarmdf <- ida.data.frame('DASH10720.CHANGEPOINTIOT')\n",
    "\n",
    "\n",
    "head(alarmdf)\n",
    "nrow(alarmdf)\n",
    "\n",
    "\n",
    "# You can close the connection with the following code:\n",
    "# idaClose(con_cpd)\n",
    "\n"
   ]
  },
  {
   "cell_type": "code",
   "execution_count": 12,
   "metadata": {
    "collapsed": true
   },
   "outputs": [],
   "source": [
    "# Function to translate from one datetime format to another datetime format\n",
    "# Returns character strings in the converted format NOT in posix or datetime format <br/>\n",
    "# DateTime passed in also should be in character string format\n",
    "\n",
    "dtformatconvert <- function(indatetimes, fromdatetimeformat=\"%Y-%m-%d %H:%M:%S %p\", \n",
    "                            todatetimeformat=\"%d-%m-%Y %H:%M:%S\",\n",
    "                            fromtz=\"GMT\", totz=\"\", usetz=FALSE)\n",
    "    {\n",
    "        return(strftime(as.POSIXct(indatetimes, format=fromdatetimeformat, tz=fromtz, usetz=FALSE), \n",
    "                            format=todatetimeformat, tz=totz, usetz=FALSE))\n",
    "    }\n"
   ]
  },
  {
   "cell_type": "markdown",
   "metadata": {},
   "source": [
    "## 3.1 Read data for 1 sensor for analysis\n",
    "You can investigate the set of unique sensor ids in the data using the below command <br/>\n",
    "[unique(alarmdf$SensorID)]"
   ]
  },
  {
   "cell_type": "code",
   "execution_count": 13,
   "metadata": {
    "collapsed": true
   },
   "outputs": [],
   "source": [
    "# Function to Standardise the Dataset with standard column names\n",
    "# <Timestamp, SensorID, SensorValue>\n",
    "f_readsensordata <- function(sensordf, sensorid, coltimestamp, colsensorid, colsensorval)\n",
    "{\n",
    "  # sensordf <- read.csv(paste(dirname, filename, sep=\"\"), sep=\",\", as.is=TRUE, header=TRUE) ##as.is=TRUE to ensure Timestamp read in as character type\n",
    "  sensordf1 <- sensordf[,c(coltimestamp, colsensorid, colsensorval)]\n",
    "  sensordf1 <- as.data.frame(sensordf1)\n",
    "  names(sensordf1) <- c(\"TimeStamp\",\"SensorID\",\"SensorValue\")\n",
    "  if (sensorid != \"ALL\")\n",
    "  {\n",
    "    sensordf1 <- sensordf1[sensordf1$SensorID==sensorid,]\n",
    "  }\n",
    "  #View(alarmdf1)\n",
    "  rm(sensordf)\n",
    "  return(sensordf1)\n",
    "}\n"
   ]
  },
  {
   "cell_type": "code",
   "execution_count": 14,
   "metadata": {},
   "outputs": [
    {
     "data": {
      "text/html": [
       "<table>\n",
       "<thead><tr><th scope=col>TimeStamp</th><th scope=col>SensorID</th><th scope=col>SensorValue</th></tr></thead>\n",
       "<tbody>\n",
       "\t<tr><td>24-03-2016 00:00:00</td><td>3B1                </td><td>9.225              </td></tr>\n",
       "\t<tr><td>24-03-2016 00:10:00</td><td>3B1                </td><td>8.610              </td></tr>\n",
       "\t<tr><td>24-03-2016 00:50:00</td><td>3B1                </td><td>8.610              </td></tr>\n",
       "\t<tr><td>24-03-2016 01:00:00</td><td>3B1                </td><td>8.610              </td></tr>\n",
       "\t<tr><td>24-03-2016 01:10:00</td><td>3B1                </td><td>8.610              </td></tr>\n",
       "\t<tr><td>24-03-2016 01:20:00</td><td>3B1                </td><td>8.610              </td></tr>\n",
       "</tbody>\n",
       "</table>\n"
      ],
      "text/latex": [
       "\\begin{tabular}{r|lll}\n",
       " TimeStamp & SensorID & SensorValue\\\\\n",
       "\\hline\n",
       "\t 24-03-2016 00:00:00 & 3B1                 & 9.225              \\\\\n",
       "\t 24-03-2016 00:10:00 & 3B1                 & 8.610              \\\\\n",
       "\t 24-03-2016 00:50:00 & 3B1                 & 8.610              \\\\\n",
       "\t 24-03-2016 01:00:00 & 3B1                 & 8.610              \\\\\n",
       "\t 24-03-2016 01:10:00 & 3B1                 & 8.610              \\\\\n",
       "\t 24-03-2016 01:20:00 & 3B1                 & 8.610              \\\\\n",
       "\\end{tabular}\n"
      ],
      "text/plain": [
       "  TimeStamp           SensorID SensorValue\n",
       "1 24-03-2016 00:00:00 3B1      9.225      \n",
       "2 24-03-2016 00:10:00 3B1      8.610      \n",
       "3 24-03-2016 00:50:00 3B1      8.610      \n",
       "4 24-03-2016 01:00:00 3B1      8.610      \n",
       "5 24-03-2016 01:10:00 3B1      8.610      \n",
       "6 24-03-2016 01:20:00 3B1      8.610      "
      ]
     },
     "metadata": {},
     "output_type": "display_data"
    }
   ],
   "source": [
    "# Read data and store in R data frame\n",
    "alarmdf <- f_readsensordata(sensordf = alarmdf, \n",
    "                            sensorid = v_sensorid, \n",
    "                            coltimestamp = v_coltimestamp, colsensorid=v_colsensorid, \n",
    "                            colsensorval=v_colsensorvalue)\n",
    "\n",
    "alarmdf$SensorValue <- as.numeric(alarmdf$SensorValue)\n",
    "head(alarmdf)"
   ]
  },
  {
   "cell_type": "markdown",
   "metadata": {},
   "source": [
    "# 4 Prepare data"
   ]
  },
  {
   "cell_type": "markdown",
   "metadata": {},
   "source": [
    "## 4.1 Sort the data by Time stamp in ascending order"
   ]
  },
  {
   "cell_type": "code",
   "execution_count": 15,
   "metadata": {},
   "outputs": [
    {
     "data": {
      "text/html": [
       "<table>\n",
       "<thead><tr><th></th><th scope=col>TimeStamp</th><th scope=col>SensorID</th><th scope=col>SensorValue</th></tr></thead>\n",
       "<tbody>\n",
       "\t<tr><th scope=row>1</th><td>24-03-2016 00:00:00</td><td>3B1                </td><td>9.225              </td></tr>\n",
       "\t<tr><th scope=row>2</th><td>24-03-2016 00:10:00</td><td>3B1                </td><td>8.610              </td></tr>\n",
       "\t<tr><th scope=row>10</th><td>24-03-2016 00:20:00</td><td>3B1                </td><td>8.610              </td></tr>\n",
       "\t<tr><th scope=row>39</th><td>24-03-2016 00:30:00</td><td>3B1                </td><td>8.610              </td></tr>\n",
       "\t<tr><th scope=row>135</th><td>24-03-2016 00:40:00</td><td>3B1                </td><td>8.610              </td></tr>\n",
       "\t<tr><th scope=row>3</th><td>24-03-2016 00:50:00</td><td>3B1                </td><td>8.610              </td></tr>\n",
       "</tbody>\n",
       "</table>\n"
      ],
      "text/latex": [
       "\\begin{tabular}{r|lll}\n",
       "  & TimeStamp & SensorID & SensorValue\\\\\n",
       "\\hline\n",
       "\t1 & 24-03-2016 00:00:00 & 3B1                 & 9.225              \\\\\n",
       "\t2 & 24-03-2016 00:10:00 & 3B1                 & 8.610              \\\\\n",
       "\t10 & 24-03-2016 00:20:00 & 3B1                 & 8.610              \\\\\n",
       "\t39 & 24-03-2016 00:30:00 & 3B1                 & 8.610              \\\\\n",
       "\t135 & 24-03-2016 00:40:00 & 3B1                 & 8.610              \\\\\n",
       "\t3 & 24-03-2016 00:50:00 & 3B1                 & 8.610              \\\\\n",
       "\\end{tabular}\n"
      ],
      "text/plain": [
       "    TimeStamp           SensorID SensorValue\n",
       "1   24-03-2016 00:00:00 3B1      9.225      \n",
       "2   24-03-2016 00:10:00 3B1      8.610      \n",
       "10  24-03-2016 00:20:00 3B1      8.610      \n",
       "39  24-03-2016 00:30:00 3B1      8.610      \n",
       "135 24-03-2016 00:40:00 3B1      8.610      \n",
       "3   24-03-2016 00:50:00 3B1      8.610      "
      ]
     },
     "metadata": {},
     "output_type": "display_data"
    }
   ],
   "source": [
    "# Sort the data by Time stamp\n",
    "alarmdf <- alarmdf[with(alarmdf, \n",
    "                        order(SensorID, \n",
    "                              as.POSIXct(TimeStamp,format=v_datatimeformat, tz=v_intimezone))), ];\n",
    "\n",
    "head(alarmdf)\n"
   ]
  },
  {
   "cell_type": "markdown",
   "metadata": {},
   "source": [
    "## 4.2 Split data into 2 divergent sets for detecting changes"
   ]
  },
  {
   "cell_type": "code",
   "execution_count": 16,
   "metadata": {
    "collapsed": true
   },
   "outputs": [],
   "source": [
    "# Function to split data into 2 datasets: Previous, Current\n",
    "# IN: Standard Data Frame, SensorID,\n",
    "#     Previous From Time stamp, Previous To Time stamp, \n",
    "#     Current From Time Stamp, Current To Time Stamp\n",
    "# OUT: Data series <br/>\n",
    "#     series 1 (SensorID, TimeStamp, SensorValue),\n",
    "#     series 2 (SensorID, TimeStamp, SensorValue)\n",
    "\n",
    "f_splitdataseries <- function(SensorID, Intimeformat, Datatimeformat, PFrom, PTo, CFrom, CTo)\n",
    "{\n",
    "  PFromPOSIX = as.POSIXct(PFrom, format=Intimeformat, tz=\"GMT\", usetz=FALSE);\n",
    "  PToPOSIX = as.POSIXct(PTo, format=Intimeformat, tz=\"GMT\", usetz=FALSE);\n",
    "  CFromPOSIX = as.POSIXct(CFrom, format=Intimeformat, tz=\"GMT\", usetz=FALSE);\n",
    "  CToPOSIX = as.POSIXct(CTo, format=Intimeformat, tz=\"GMT\", usetz=FALSE);\n",
    "  \n",
    "  alarmdf$TimeStampPOSIX <- as.POSIXct(alarmdf$TimeStamp, \n",
    "                          format=Datatimeformat, tz=\"GMT\", usetz=FALSE);\n",
    "\n",
    "  series1 = alarmdf[which(alarmdf$SensorID ==SensorID & \n",
    "                          alarmdf$TimeStampPOSIX >= PFromPOSIX & alarmdf$TimeStampPOSIX < PToPOSIX),];\n",
    "  series2 = alarmdf[which(alarmdf$SensorID ==SensorID & \n",
    "                          alarmdf$TimeStampPOSIX >= CFromPOSIX & alarmdf$TimeStampPOSIX < CToPOSIX),];\n",
    "  return(list(series1, series2));\n",
    "}\n"
   ]
  },
  {
   "cell_type": "markdown",
   "metadata": {},
   "source": [
    "### Get the 2 Data series to compare"
   ]
  },
  {
   "cell_type": "code",
   "execution_count": 17,
   "metadata": {},
   "outputs": [
    {
     "data": {
      "text/html": [
       "<table>\n",
       "<thead><tr><th></th><th scope=col>TimeStamp</th><th scope=col>SensorID</th><th scope=col>SensorValue</th><th scope=col>TimeStampPOSIX</th></tr></thead>\n",
       "<tbody>\n",
       "\t<tr><th scope=row>1</th><td>24-03-2016 00:00:00</td><td>3B1                </td><td>9.225              </td><td>2016-03-24 00:00:00</td></tr>\n",
       "\t<tr><th scope=row>2</th><td>24-03-2016 00:10:00</td><td>3B1                </td><td>8.610              </td><td>2016-03-24 00:10:00</td></tr>\n",
       "\t<tr><th scope=row>10</th><td>24-03-2016 00:20:00</td><td>3B1                </td><td>8.610              </td><td>2016-03-24 00:20:00</td></tr>\n",
       "\t<tr><th scope=row>39</th><td>24-03-2016 00:30:00</td><td>3B1                </td><td>8.610              </td><td>2016-03-24 00:30:00</td></tr>\n",
       "\t<tr><th scope=row>135</th><td>24-03-2016 00:40:00</td><td>3B1                </td><td>8.610              </td><td>2016-03-24 00:40:00</td></tr>\n",
       "\t<tr><th scope=row>3</th><td>24-03-2016 00:50:00</td><td>3B1                </td><td>8.610              </td><td>2016-03-24 00:50:00</td></tr>\n",
       "</tbody>\n",
       "</table>\n"
      ],
      "text/latex": [
       "\\begin{tabular}{r|llll}\n",
       "  & TimeStamp & SensorID & SensorValue & TimeStampPOSIX\\\\\n",
       "\\hline\n",
       "\t1 & 24-03-2016 00:00:00 & 3B1                 & 9.225               & 2016-03-24 00:00:00\\\\\n",
       "\t2 & 24-03-2016 00:10:00 & 3B1                 & 8.610               & 2016-03-24 00:10:00\\\\\n",
       "\t10 & 24-03-2016 00:20:00 & 3B1                 & 8.610               & 2016-03-24 00:20:00\\\\\n",
       "\t39 & 24-03-2016 00:30:00 & 3B1                 & 8.610               & 2016-03-24 00:30:00\\\\\n",
       "\t135 & 24-03-2016 00:40:00 & 3B1                 & 8.610               & 2016-03-24 00:40:00\\\\\n",
       "\t3 & 24-03-2016 00:50:00 & 3B1                 & 8.610               & 2016-03-24 00:50:00\\\\\n",
       "\\end{tabular}\n"
      ],
      "text/plain": [
       "    TimeStamp           SensorID SensorValue TimeStampPOSIX     \n",
       "1   24-03-2016 00:00:00 3B1      9.225       2016-03-24 00:00:00\n",
       "2   24-03-2016 00:10:00 3B1      8.610       2016-03-24 00:10:00\n",
       "10  24-03-2016 00:20:00 3B1      8.610       2016-03-24 00:20:00\n",
       "39  24-03-2016 00:30:00 3B1      8.610       2016-03-24 00:30:00\n",
       "135 24-03-2016 00:40:00 3B1      8.610       2016-03-24 00:40:00\n",
       "3   24-03-2016 00:50:00 3B1      8.610       2016-03-24 00:50:00"
      ]
     },
     "metadata": {},
     "output_type": "display_data"
    },
    {
     "data": {
      "text/html": [
       "<table>\n",
       "<thead><tr><th></th><th scope=col>TimeStamp</th><th scope=col>SensorID</th><th scope=col>SensorValue</th><th scope=col>TimeStampPOSIX</th></tr></thead>\n",
       "<tbody>\n",
       "\t<tr><th scope=row>151</th><td>25-03-2016 00:00:00</td><td>3B1                </td><td>18.450             </td><td>2016-03-25 00:00:00</td></tr>\n",
       "\t<tr><th scope=row>142</th><td>25-03-2016 00:10:00</td><td>3B1                </td><td>13.530             </td><td>2016-03-25 00:10:00</td></tr>\n",
       "\t<tr><th scope=row>143</th><td>25-03-2016 00:20:00</td><td>3B1                </td><td>12.300             </td><td>2016-03-25 00:20:00</td></tr>\n",
       "\t<tr><th scope=row>144</th><td>25-03-2016 00:30:00</td><td>3B1                </td><td>11.685             </td><td>2016-03-25 00:30:00</td></tr>\n",
       "\t<tr><th scope=row>145</th><td>25-03-2016 00:40:00</td><td>3B1                </td><td>11.685             </td><td>2016-03-25 00:40:00</td></tr>\n",
       "\t<tr><th scope=row>146</th><td>25-03-2016 00:50:00</td><td>3B1                </td><td>16.605             </td><td>2016-03-25 00:50:00</td></tr>\n",
       "</tbody>\n",
       "</table>\n"
      ],
      "text/latex": [
       "\\begin{tabular}{r|llll}\n",
       "  & TimeStamp & SensorID & SensorValue & TimeStampPOSIX\\\\\n",
       "\\hline\n",
       "\t151 & 25-03-2016 00:00:00 & 3B1                 & 18.450              & 2016-03-25 00:00:00\\\\\n",
       "\t142 & 25-03-2016 00:10:00 & 3B1                 & 13.530              & 2016-03-25 00:10:00\\\\\n",
       "\t143 & 25-03-2016 00:20:00 & 3B1                 & 12.300              & 2016-03-25 00:20:00\\\\\n",
       "\t144 & 25-03-2016 00:30:00 & 3B1                 & 11.685              & 2016-03-25 00:30:00\\\\\n",
       "\t145 & 25-03-2016 00:40:00 & 3B1                 & 11.685              & 2016-03-25 00:40:00\\\\\n",
       "\t146 & 25-03-2016 00:50:00 & 3B1                 & 16.605              & 2016-03-25 00:50:00\\\\\n",
       "\\end{tabular}\n"
      ],
      "text/plain": [
       "    TimeStamp           SensorID SensorValue TimeStampPOSIX     \n",
       "151 25-03-2016 00:00:00 3B1      18.450      2016-03-25 00:00:00\n",
       "142 25-03-2016 00:10:00 3B1      13.530      2016-03-25 00:10:00\n",
       "143 25-03-2016 00:20:00 3B1      12.300      2016-03-25 00:20:00\n",
       "144 25-03-2016 00:30:00 3B1      11.685      2016-03-25 00:30:00\n",
       "145 25-03-2016 00:40:00 3B1      11.685      2016-03-25 00:40:00\n",
       "146 25-03-2016 00:50:00 3B1      16.605      2016-03-25 00:50:00"
      ]
     },
     "metadata": {},
     "output_type": "display_data"
    }
   ],
   "source": [
    "# Get the 2 Data series to compare (sample values shown for help)\n",
    "#  s = f_splitdataseries (SensorID=\"3B1\",\n",
    "#                       Intimeformat=\"%Y%m%d %H:%M:%S\", Datatimeformat=\"%d-%m-%Y %H:%M:%S\",\n",
    "#                       PFrom=\"20160324 00:00:00\", PTo=\"20160325 00:00:00\",\n",
    "#                       CFrom=\"20160325 00:00:00\", CTo=\"20160326 00:00:00\")\n",
    "\n",
    "s = f_splitdataseries (SensorID=v_sensorid,\n",
    "                       Intimeformat=v_rangetimeformat, Datatimeformat=v_datatimeformat,\n",
    "                       PFrom=v_Pfrom, PTo=v_Pto,\n",
    "                       CFrom=v_Cfrom, CTo=v_Cto)\n",
    "\n",
    "\n",
    "# Unpack the 2 list of data frames\n",
    "series1 <- s[[1]]\n",
    "series2 <- s[[2]]\n",
    "\n",
    "head(series1)\n",
    "head(series2)"
   ]
  },
  {
   "cell_type": "markdown",
   "metadata": {},
   "source": [
    "# 5 Analyze the Data"
   ]
  },
  {
   "cell_type": "markdown",
   "metadata": {},
   "source": [
    "## 5.1 Plot the line graphs for both the series <br/>"
   ]
  },
  {
   "cell_type": "code",
   "execution_count": 18,
   "metadata": {
    "collapsed": true
   },
   "outputs": [],
   "source": [
    "# Function to plot the line graphs for both the series\n",
    "# IN parameters: (x,y values for both the Time series in sorted order) x1, y1, x2, y2\n",
    "f_plot2lines <- function(x1, y1, x2, y2)\n",
    "{\n",
    "  # Draw Line plot\n",
    "  # dev.new()\n",
    "  plot(y1,type=\"l\",col=\"green\",xlab=\" \", ylab=\" \",pch=21,xaxt=\"n\",yaxt=\"n\")\n",
    "  par(new=T)\n",
    "  plot(y2,type=\"l\",col=\"red\",xlab=\"Time\", ylab=\"Sensor Values\",pch=21,xaxt=\"n\",yaxt=\"n\")\n",
    "  axis(2,las=3,cex.axis=0.8)\n",
    "  axis(1,at=c(1:length(x1)),c(x1),las=2,cex.axis=0.4)\n",
    "  title(\"Sensor readings by Time overlay\")\n",
    "  par(new=F)\n",
    "}\n"
   ]
  },
  {
   "cell_type": "code",
   "execution_count": 19,
   "metadata": {},
   "outputs": [
    {
     "data": {
      "image/png": "[encoded data removed]"
     },
     "metadata": {},
     "output_type": "display_data"
    }
   ],
   "source": [
    "# Line plot of the 2 Data series\n",
    "f_plot2lines(x1 <- series1$TimeStamp, y1 <- series1$SensorValue,\n",
    "             x2 <- series2$TimeStamp, y2 <- series2$SensorValue)\n"
   ]
  },
  {
   "cell_type": "markdown",
   "metadata": {},
   "source": [
    "## 5.2 Plot the box plots for both the distributions <br/>"
   ]
  },
  {
   "cell_type": "code",
   "execution_count": 20,
   "metadata": {
    "collapsed": true
   },
   "outputs": [],
   "source": [
    "# Function to plot the box plots for both the distributions <br/>\n",
    "# Time series order does not matter for this <br/>\n",
    "#     IN parameters: (Sensorvalues-series 1, Sensorvalues-series 2)\n",
    "    \n",
    "f_plot2boxes <- function(s1sensorvalue, s2sensorvalue)\n",
    "{\n",
    "  data_list = NULL\n",
    "  col_list = c(\"green\", \"blue\")\n",
    "  names_list = c(\"Previous\", \"Current\")\n",
    "  \n",
    "  data_list = list()\n",
    "  data_list[[1]] = s1sensorvalue\n",
    "  data_list[[2]] = s2sensorvalue\n",
    "  \n",
    "  # dev.new() # Works in PC only\n",
    "  boxstats <- boxplot.stats(data_list[[1]], coef=1.57, do.conf = TRUE, do.out = TRUE)\n",
    "  #par(new=T)\n",
    "  boxplot(data_list, las = 2, col = col_list, ylim=c(-2.0,70),\n",
    "          names= names_list,\n",
    "          mar = c(12, 5, 4, 2) + 0.1,\n",
    "          main=\"Change point detection\",\n",
    "          sub=paste(\"Spread of Sensor reading distributions\", \":\", sep=\"\"),\n",
    "          ylab=\"Sensor Readings\", \n",
    "          coef=1.57, do.conf = TRUE, do.out = TRUE)\n",
    "  abline(h=boxstats$stats, col=\"green\", las=2)\n",
    "}\n"
   ]
  },
  {
   "cell_type": "code",
   "execution_count": 21,
   "metadata": {},
   "outputs": [
    {
     "data": {
      "image/png": "[encoded data removed]"
     },
     "metadata": {},
     "output_type": "display_data"
    }
   ],
   "source": [
    "# Plot the 2 box plots for the distribution\n",
    "f_plot2boxes(s1sensorvalue = series1$SensorValue,\n",
    "             s2sensorvalue = series2$SensorValue)\n"
   ]
  },
  {
   "cell_type": "markdown",
   "metadata": {},
   "source": [
    "# 6 Statistical Change point detection"
   ]
  },
  {
   "cell_type": "markdown",
   "metadata": {},
   "source": [
    "## 6.1 Calculate the stats for both the series <br/>"
   ]
  },
  {
   "cell_type": "code",
   "execution_count": 22,
   "metadata": {
    "collapsed": true
   },
   "outputs": [],
   "source": [
    "# Function to calculate the stats for both the series <br/>\n",
    "# Avg, Median, p1sd, p2sd, p3sd, n1sd, n2sd, n3sd, q0, q1, q2, q3, q4, f1range, <br/>\n",
    "#      iqrange, f2range, sku, kurt, outliers\n",
    "\n",
    "f_seriesstats <- function(series)\n",
    "{\n",
    "  boxstats <- boxplot.stats(series, coef=1.57, do.conf = TRUE, do.out = TRUE)\n",
    "  smin <- min(series)\n",
    "  smax <- max(series)\n",
    "  smean <- mean(series)\n",
    "  #Spread measures\n",
    "  sq0 <- boxstats$stats[1]\n",
    "  sq1 <- boxstats$stats[2]\n",
    "  sq2 <- boxstats$stats[3]\n",
    "  sq3 <- boxstats$stats[4]\n",
    "  sq4 <- boxstats$stats[5]\n",
    "  siqr <- (sq3 - sq1)\n",
    "  # Normal distribution\n",
    "  s1sd <- sd(series)\n",
    "  s1sdp <- smean + s1sd\n",
    "  s1sdn <- smean - s1sd\n",
    "  s2sdp <- smean + (2*s1sd)\n",
    "  s2sdn <- smean - (2*s1sd)\n",
    "  s3sdp <- smean + (3*s1sd)\n",
    "  s3sdn <- smean - (3*s1sd)\n",
    "  # Outlier counts @ 2sd\n",
    "  s2sdout <- sum(series > s2sdp) + sum(series < s2sdn)\n",
    "  # return(list(smin, smax, smean, sq0, sq1, sq2, sq3, sq4, siqr, s1sd, s1sdp,\n",
    "                                        # s1sdn, s2sdp, s2sdn, s3sdp, s3sdn))\n",
    "  return(list(smin=smin, smax=smax, smean=smean,\n",
    "              sq0=sq0, sq1=sq1, sq2=sq2, sq3=sq3, sq4=sq4, siqr=siqr,\n",
    "              s1sd=s1sd, s1sdp=s1sdp, s1sdn=s1sdn,\n",
    "              s2sdp=s2sdp, s2sdn=s2sdn, s3sdp=s3sdp, s3sdn=s3sdn))\n",
    "}\n"
   ]
  },
  {
   "cell_type": "code",
   "execution_count": 23,
   "metadata": {
    "collapsed": true
   },
   "outputs": [],
   "source": [
    "# Compute the statistics for both series and check results\n",
    "s1stats <- f_seriesstats(series1$SensorValue)\n",
    "s2stats <- f_seriesstats(series2$SensorValue)\n"
   ]
  },
  {
   "cell_type": "markdown",
   "metadata": {},
   "source": [
    "## 6.2 Calculate change point deviations"
   ]
  },
  {
   "cell_type": "code",
   "execution_count": 24,
   "metadata": {
    "collapsed": true
   },
   "outputs": [],
   "source": [
    "## Function to calculate change point deviatrion percentages\n",
    "f_changepercent <- function(val1, val2)\n",
    "{\n",
    "  return(((val2-val1)/val1)*100)\n",
    "}\n",
    "\n",
    "# Calculate percentage deviation for individual stats\n",
    "f_serieschangepercent <- function(series1stats, series2stats)\n",
    "{\n",
    "  n <- length(series1stats)\n",
    "  cols=names(series2stats)\n",
    "  cpdf <- data.frame(statname=character(), series1val = numeric(), \n",
    "                     series2val=numeric(), changeper=numeric());\n",
    "  for (i in 1:length(series2stats))\n",
    "  {\n",
    "    newrow = data.frame(statname=cols[i], \n",
    "                        series1val=series1stats[[i]], \n",
    "                        series2val=series2stats[[i]], \n",
    "                        changeper=f_changepercent(series1stats[[i]], series2stats[[i]]))\n",
    "    cpdf <- rbind(cpdf, newrow)\n",
    "  }\n",
    "  return(cpdf)\n",
    "}\n",
    "\n",
    "# Calculate overall percentage deviation and detect change point\n",
    "f_detectchangepoint <- function(dfcp, threshold)\n",
    "{\n",
    "  # Overall percentage deviation\n",
    "  newrow = data.frame(statname='overall',\n",
    "                      series1val=NA,\n",
    "                      series2val=NA,\n",
    "                      changeper=mean(abs(dfcp$changeper)))\n",
    "  dfcp <- rbind(dfcp, newrow)\n",
    "  # Overall change point percentage\n",
    "  changepointper <- dfcp[which(dfcp$statname==\"overall\"),c(\"changeper\")]\n",
    "  # Mark change point at threshold %\n",
    "  if(changepointper > threshold)\n",
    "    {return(paste(\"Change Point DETECTED exceeding threshold: \",threshold,\"% \", sep=\"\"))}\n",
    "  else\n",
    "    {return(paste(\"Change Point NOT DETECTED at threshold: \",threshold,\"% \", sep=\"\"))}\n",
    "}\n"
   ]
  },
  {
   "cell_type": "markdown",
   "metadata": {},
   "source": [
    "### Overall change percentage and individual key statistics\n"
   ]
  },
  {
   "cell_type": "code",
   "execution_count": 25,
   "metadata": {},
   "outputs": [
    {
     "name": "stdout",
     "output_type": "stream",
     "text": [
      "   statname series1val series2val changeper\n",
      "1      smin   8.610000   9.225000  7.142857\n",
      "2      smax  52.890000  55.965000  5.813953\n",
      "3     smean  13.073021  18.168125 38.974191\n",
      "4       sq0   8.610000   9.225000  7.142857\n",
      "5       sq1   8.610000  11.685000 35.714286\n",
      "6       sq2   9.840000  13.530000 37.500000\n",
      "7       sq3  12.915000  18.142500 40.476190\n",
      "8       sq4  19.065000  27.060000 41.935484\n",
      "9      siqr   4.305000   6.457500 50.000000\n",
      "10     s1sd   8.861824  11.444024 29.138478\n",
      "11    s1sdp  21.934845  29.612149 35.000497\n",
      "12    s1sdn   4.211197   6.724101 59.671956\n",
      "13    s2sdp  30.796669  41.056174 33.313685\n",
      "14    s2sdn  -4.650627  -4.719924  1.490057\n",
      "15    s3sdp  39.658493  52.500198 32.380721\n",
      "16    s3sdn -13.512451 -16.163948 19.622625\n"
     ]
    },
    {
     "data": {
      "text/html": [
       "'Change Point DETECTED exceeding threshold: 25% '"
      ],
      "text/latex": [
       "'Change Point DETECTED exceeding threshold: 25\\% '"
      ],
      "text/markdown": [
       "'Change Point DETECTED exceeding threshold: 25% '"
      ],
      "text/plain": [
       "[1] \"Change Point DETECTED exceeding threshold: 25% \""
      ]
     },
     "metadata": {},
     "output_type": "display_data"
    }
   ],
   "source": [
    "# Overall change percentage in key statistics\n",
    "dfallstats <- f_serieschangepercent(s1stats, s2stats)\n",
    "print(dfallstats)\n",
    "# Detect changepoint\n",
    "f_detectchangepoint(dfallstats, v_thresholdpercent)\n"
   ]
  }
 ],
 "metadata": {
  "kernelspec": {
   "display_name": "R with Spark 2.0",
   "language": "R",
   "name": "r-spark20"
  },
  "language_info": {
   "codemirror_mode": "r",
   "file_extension": ".r",
   "mimetype": "text/x-r-source",
   "name": "R",
   "pygments_lexer": "r",
   "version": "3.3.2"
  }
 },
 "nbformat": 4,
 "nbformat_minor": 1
}
